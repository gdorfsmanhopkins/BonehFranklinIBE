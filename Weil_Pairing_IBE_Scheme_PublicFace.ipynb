{
 "cells": [
  {
   "cell_type": "code",
   "execution_count": 0,
   "metadata": {
    "collapsed": false
   },
   "outputs": [
   ],
   "source": [
    "##############################################################\n",
    "#Implementation of the Boneh-Franklin Identity Based Encryption using the Weil Pairing\n",
    "#Florence Lam\n",
    "#Accompanies a paper with the same title\n",
    "#References to Theorems/Definitions/Algorithms/Sections are to that paper\n",
    "##############################################################\n",
    "\n",
    "\n",
    "#BasicIdent requires two hash functions (cf. Section 2.4)\n",
    "#We use this library\n",
    "from Crypto.Hash import SHA512\n",
    "\n",
    "#Okay for Hash(ID)\n",
    "def H1(hash_input):\n",
    "    hash = SHA512.new()\n",
    "    str_val = str(hash_input)\n",
    "    byte_val = str_val.encode()\n",
    "    hash.update(byte_val)\n",
    "    hexadecimal = hash.hexdigest()\n",
    "    return int(hexadecimal, 16)"
   ]
  },
  {
   "cell_type": "code",
   "execution_count": 0,
   "metadata": {
    "collapsed": false
   },
   "outputs": [
   ],
   "source": [
    "#Fast modular exponentiation algorithm (needed for F_{p^2})\n",
    "def fastPowerSmall(g,A):\n",
    "    a = g\n",
    "    b = 1\n",
    "    if g == 0 and A == 0:\n",
    "        return \"Undefined\"\n",
    "    else:\n",
    "        while A > 0:\n",
    "            if A%2 == 1:\n",
    "                b = b*a\n",
    "            a = a^2\n",
    "            A = A//2\n",
    "            print\n",
    "        return b"
   ]
  },
  {
   "cell_type": "code",
   "execution_count": 0,
   "metadata": {
    "collapsed": false
   },
   "outputs": [
   ],
   "source": [
    "#ASCII implementation\n",
    "def textToInt(w):\n",
    "    n  = 0\n",
    "    counter = 0\n",
    "    #counter will give us the index of each character in the string\n",
    "    for i in w:\n",
    "        n = n + ord(i)*(256**counter)\n",
    "        counter = counter + 1\n",
    "    return n\n",
    "\n",
    "def intToText(n):\n",
    "    str = \"\"\n",
    "    while n > 0:\n",
    "        a0 = n%256\n",
    "        str = str + chr(a0) #chr undoes ord. ord() inputs character and outputs integer. str inputs integer between 0 and 255 and outputs character.\n",
    "        n = n//256 #This is the quotient after dividing n by 256\n",
    "    return str"
   ]
  },
  {
   "cell_type": "code",
   "execution_count": 0,
   "metadata": {
    "collapsed": false
   },
   "outputs": [
   ],
   "source": [
    "#First step of Miller's Algorithm\n",
    "#This defines a rational function g(x,y) on E whose divisor is div(g) = [P] + [Q] - [P+Q] - [O]\n",
    "#(cf. Theorem 2.2)\n",
    "\n",
    "#A, B coefficients of E. Use A,B = E.a_invariants()[3], E.a_invariants()[4]\n",
    "#P = E([xP, yP])\n",
    "\n",
    "def g(P,Q,x,y,E):\n",
    "    A,B = E.a_invariants()[3], E.a_invariants()[4]\n",
    "    if P == E(0) or Q == E(0):\n",
    "        return \"no divisor\"\n",
    "    xP,yP = P[0],P[1]\n",
    "    xQ,yQ = Q[0],Q[1]\n",
    "    #Calculate slope of line connecting P and Q\n",
    "    #JUST check if equal\n",
    "    if yP == -yQ and xP == xQ:\n",
    "        slope = +oo #symbol for Infinity\n",
    "    elif P == Q:\n",
    "        slope = (3*(xP**2) + A)/(2*yP)\n",
    "    else:\n",
    "        slope = (yQ - yP)/(xQ - xP)\n",
    "    #return the function on E\n",
    "    if slope == +oo:\n",
    "        return x - xP\n",
    "    else:\n",
    "        return (y - yP - slope*(x - xP))/(x + xP + xQ - slope**2)"
   ]
  },
  {
   "cell_type": "code",
   "execution_count": 0,
   "metadata": {
    "collapsed": false
   },
   "outputs": [
   ],
   "source": [
    "#Implementation of Miller's algorithm (Theorem 2.2)\n",
    "\n",
    "def MillerAlgorithm(P,m,x,y,E):\n",
    "    A,B = E.a_invariants()[3], E.a_invariants()[4]\n",
    "    xP,yP = P[0],P[1]\n",
    "    binary = m.digits(2) #gives number in binary\n",
    "    n = len(binary) #trying to find what \"n\" is.\n",
    "    T = P\n",
    "    f = 1\n",
    "    for i in range(n-2,-1,-1): #Stop once i = -1, so last number is 0...range(start, stop, step)\n",
    "        f = (f**2)*g(T,T,x,y,E)\n",
    "        T *= 2 #T = 2T\n",
    "        if binary[i] == 1:\n",
    "            f = f*g(T,P,x,y,E)\n",
    "            T += P\n",
    "    return f #This algorithm returns a value..."
   ]
  },
  {
   "cell_type": "code",
   "execution_count": 0,
   "metadata": {
    "collapsed": false
   },
   "outputs": [
   ],
   "source": [
    "#Weil Pairing Implementation (cf. Theorem 2.3)\n",
    "#Works on general elliptic curve over finite field\n",
    "\n",
    "def WeilPairing(P,Q,m,E):\n",
    "    A,B = E.a_invariants()[3], E.a_invariants()[4]\n",
    "    S = E.random_element()\n",
    "    while m*S == E(0):\n",
    "        S = E.random_element() #Pick point S that is not m-torsion. This guarantees that S isn't a linear combination of P and Q.\n",
    "    xS,yS = S[0],S[1]\n",
    "    QplusS = Q + S\n",
    "    f_P_QplusS = MillerAlgorithm(P,m,QplusS[0],QplusS[1],E)\n",
    "    f_P_S = MillerAlgorithm(P,m,xS,yS,E)\n",
    "    num = f_P_QplusS/f_P_S\n",
    "\n",
    "    PminusS = P - S\n",
    "    f_Q_PminusS = MillerAlgorithm(Q,m,PminusS[0],PminusS[1],E) #This is f_Q(P-S)\n",
    "    f_Q_minusS = MillerAlgorithm(Q,m,xS,-yS,E) #This is f_Q(-S)\n",
    "    denom = f_Q_PminusS/f_Q_minusS\n",
    "\n",
    "    e_m = num/denom\n",
    "    return e_m"
   ]
  },
  {
   "cell_type": "code",
   "execution_count": 0,
   "metadata": {
    "collapsed": false
   },
   "outputs": [
   ],
   "source": [
    "#Implementation of Modified Weil Pairing (cf. Definition 2.8)\n",
    "#Works on the elliptic curve E given by y^2 = x^3 + 1 over F_p with p a prime congruent to 2 modulo 3\n",
    "\n",
    "def ModifiedWeilPairing(P,Q,m,E):\n",
    "    Fp = GF(p)\n",
    "    R.<x> = Fp[]\n",
    "    Fp2.<z> = Fp.extension(x^2+x+1)      #Form F_{p^2} by adjoining z = {a nontrivial cube root of 1}\n",
    "    E_zeta = EllipticCurve(Fp2, [0,1])   #Define E: y^2 = x^3 + 1 over this field\n",
    "    phiQ = E_zeta([z*Q[0],Q[1]])\n",
    "    A,B = E_zeta.a_invariants()[3], E_zeta.a_invariants()[4]\n",
    "    P_zeta = E_zeta([P[0],P[1]])\n",
    "    S = E_zeta.random_element()\n",
    "    while m*S == E(0):\n",
    "        S = E_zeta.random_element()\n",
    "    xS,yS = S[0],S[1]\n",
    "    QplusS = phiQ + S\n",
    "    f_P_QplusS = MillerAlgorithm(P,m,QplusS[0],QplusS[1],E_zeta)\n",
    "    f_P_S = MillerAlgorithm(P,m,xS,yS,E_zeta)\n",
    "    num = f_P_QplusS/f_P_S\n",
    "\n",
    "    PminusS = P_zeta - S #modify\n",
    "    f_Q_PminusS = MillerAlgorithm(phiQ,m,PminusS[0],PminusS[1],E_zeta) #This is f_Q(P-S)\n",
    "    f_Q_minusS = MillerAlgorithm(phiQ,m,xS,-yS,E_zeta) #This is f_Q(-S)\n",
    "    denom = f_Q_PminusS/f_Q_minusS\n",
    "\n",
    "    e_m = num/denom\n",
    "    return e_m"
   ]
  },
  {
   "cell_type": "code",
   "execution_count": 0,
   "metadata": {
    "collapsed": false
   },
   "outputs": [
   ],
   "source": [
    "#Implementation of BDHGenerator\n",
    "#THis is `Setup` algorithm in IBE scheme ###2\n",
    "#(cf. Algorithm 2 in Section 3.1)\n",
    "\n",
    "def BDHGenerator(k):\n",
    "    q = random_prime((2^k) - 1, True, lbound=2^(k-1)) #Generates a random k-bit prime. False means using pseudo-primality tests.\n",
    "    p = q\n",
    "    l = 1 #need l for `MapToPoint`\n",
    "    lq = q\n",
    "    while True:\n",
    "        l += 1\n",
    "        lq += q\n",
    "        p = lq - 1\n",
    "        if p%3 == 2 and (p+1)%(q^2) != 0 and is_prime(p) == True:\n",
    "            break\n",
    "    E = EllipticCurve(GF(p), [0,1]) #p is public b/c the elliptic curve is known\n",
    "    P = E(0)\n",
    "    while P == E(0):\n",
    "        Q = E.random_element()\n",
    "        while Q == E(0): #make sure P is not O\n",
    "            Q = E.random_element()\n",
    "        h = (p+1)//q #This is to make sure P has order q.\n",
    "        P = h*Q #Order of P is q1\n",
    "    s = ZZ.random_element(2,q-1) #s is private master key in Z_q*.\n",
    "    P_pub = s*P\n",
    "    params = [p, q, l, E, P, P_pub]\n",
    "    return params, s #Everything except s is `params`/public"
   ]
  },
  {
   "cell_type": "code",
   "execution_count": 0,
   "metadata": {
    "collapsed": false
   },
   "outputs": [
   ],
   "source": [
    "#Implementation of MapToPoint\n",
    "#(cf Algorithm 3 in Section 3.2)\n",
    "\n",
    "#A brief sketch of how this is used:\n",
    "#y0 in Fp. It is an output from hash function. Input to the first hash function is ID.\n",
    "#s is the master key\n",
    "#private key is d_ID (don't send to others)\n",
    "#MapToPoint is `Extract` in Boneh-Franklin\n",
    "#Q_ID is for people to use so they can encrypt. They can just use ID, hash it, and calculate Q_ID by themselves. One way is to make a `public` MapToPoint function that doesn't take in s, and doesn't d_ID\n",
    "#Admin does this, not the user\n",
    "#Hash y0 before inputting to MapToPoint. y0 = Hash(ID)\n",
    "#y0 is an element mod p, need to reduce mod p.\n",
    "\n",
    "def MapToPoint(y0,params):\n",
    "    p, q, l, E, P, P_pub = params\n",
    "    x0 = pow((y0^2) - 1, ((2*p)-1)//3, p) #`pow` is Python's built-in function that does fast power\n",
    "    Q = E([x0,y0])\n",
    "    Q_ID = l*Q #l comes from BDHGenerator. It's the integer s.t. p = lq-1\n",
    "    d_ID = s*Q_ID\n",
    "    return Q_ID,d_ID"
   ]
  },
  {
   "cell_type": "code",
   "execution_count": 0,
   "metadata": {
    "collapsed": false
   },
   "outputs": [
   ],
   "source": [
    "###Encrypt and Decryptimplementation\n",
    "#(cf. Section 2.4 and end of Section 3.2)\n",
    "\n",
    "def Encrypt(M,Q_ID,params):\n",
    "    params = [p, q, l, E, P, P_pub]\n",
    "    r = ZZ.random_element(2,q-1)\n",
    "    U = r*P\n",
    "    g_ID = ModifiedWeilPairing(Q_ID,P_pub,q,E)\n",
    "    g_ID_to_r = fastPowerSmall(g_ID, r)\n",
    "    V = M^^H1(g_ID_to_r)\n",
    "    C = [U,V] #This is the ciphertext\n",
    "    return C\n",
    "\n",
    "#^^ is XOR operator in Sage\n",
    "#d_ID from MapToPoint. It's the private key (I keep it)\n",
    "\n",
    "def Decrypt(C,d_ID,params):\n",
    "    params = [p, q, l, E, P, P_pub]\n",
    "    U,V = C\n",
    "    weil = ModifiedWeilPairing(d_ID,U,q,E)\n",
    "    M = V^^H1(weil)\n",
    "    return M\n"
   ]
  },
  {
   "cell_type": "code",
   "execution_count": 0,
   "metadata": {
    "collapsed": false
   },
   "outputs": [
   ],
   "source": [
    "#########################################\n",
    "#What follows is an example runthrough of the implementation in 5 steps\n",
    "#Follows the outline of a general IBE scheme (cf. Section 2.4) implemented using the modified Weil pairing\n",
    "#The user is encouraged to run the code and experiment\n",
    "#########################################"
   ]
  },
  {
   "cell_type": "code",
   "execution_count": 0,
   "metadata": {
    "collapsed": false,
    "scrolled": true
   },
   "outputs": [
   ],
   "source": [
    "#Step 1: Only need to run once\n",
    "#Boneh-Franklin Page 20 says to pick primes p that are at least 512-bit long for security purposes.\n",
    "params,s = BDHGenerator(512)\n",
    "p, q, l, E, P, P_pub = params\n",
    "print(\"p = \", p)\n",
    "print(\"q = \", q)\n",
    "print(\"E = \", E)\n",
    "print(\"P = \", P)\n",
    "print(\"s = \", s)\n",
    "print(\"l = \", l)\n",
    "print(\"P_pub = \", P_pub)"
   ]
  },
  {
   "cell_type": "code",
   "execution_count": 0,
   "metadata": {
    "collapsed": false
   },
   "outputs": [
   ],
   "source": [
    "#Step 2: Hash. Only need to run once for one ID.\n",
    "your_ID = \"user\"\n",
    "\n",
    "y0 = H1(your_ID)\n",
    "print(\"y0 = \", y0)"
   ]
  },
  {
   "cell_type": "code",
   "execution_count": 0,
   "metadata": {
    "collapsed": false
   },
   "outputs": [
   ],
   "source": [
    "#Step 3: MapToPoint. Only need to run once.\n",
    "Q_ID,d_ID = MapToPoint(y0,params)\n",
    "print(\"Q_ID = \", Q_ID)\n",
    "print(\"d_ID = \", d_ID)"
   ]
  },
  {
   "cell_type": "code",
   "execution_count": 0,
   "metadata": {
    "collapsed": false
   },
   "outputs": [
   ],
   "source": [
    "#Step 4: Encrypt\n",
    "input_message = \"Hello! :)\"\n",
    "\n",
    "M = textToInt(input_message)\n",
    "C = Encrypt(M,Q_ID,params)\n",
    "U,V = C\n",
    "print(\"M = \", M)\n",
    "print(\"U = \", U)\n",
    "print(\"V = \", V)"
   ]
  },
  {
   "cell_type": "code",
   "execution_count": 0,
   "metadata": {
    "collapsed": false
   },
   "outputs": [
   ],
   "source": [
    "#Step 5: Decrypt\n",
    "M0 = Decrypt(C,d_ID,params)\n",
    "output_message = intToText(M0)\n",
    "print(\"M0 = \", M0)\n",
    "print(\"messsage = \", output_message)"
   ]
  },
  {
   "cell_type": "code",
   "execution_count": 0,
   "metadata": {
    "collapsed": false
   },
   "outputs": [
   ],
   "source": [
    "################\n",
    "#Open Cell for the user to test and experiment with any and all functions above\n",
    "################"
   ]
  }
 ],
 "metadata": {
  "kernelspec": {
   "display_name": "SageMath 9.3",
   "language": "sagemath",
   "metadata": {
    "cocalc": {
     "description": "Open-source mathematical software system",
     "priority": 1,
     "url": "https://www.sagemath.org/"
    }
   },
   "name": "sage-9.3",
   "resource_dir": "/ext/jupyter/kernels/sage-9.3"
  },
  "language_info": {
   "codemirror_mode": {
    "name": "ipython",
    "version": 3
   },
   "file_extension": ".py",
   "mimetype": "text/x-python",
   "name": "python",
   "nbconvert_exporter": "python",
   "pygments_lexer": "ipython3",
   "version": "3.9.2"
  }
 },
 "nbformat": 4,
 "nbformat_minor": 4
}